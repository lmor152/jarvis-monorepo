{
 "cells": [
  {
   "cell_type": "code",
   "execution_count": 1,
   "id": "1d58dc54",
   "metadata": {},
   "outputs": [],
   "source": [
    "import pveagle\n",
    "import dotenv\n",
    "import os\n",
    "\n",
    "_ = dotenv.load_dotenv()"
   ]
  },
  {
   "cell_type": "markdown",
   "id": "c01fd38f",
   "metadata": {},
   "source": [
    "## Adding a Voice\n",
    "\n",
    "```pip install pveagledemo```\n",
    "\n",
    "```eagle_demo_mic enroll --access_key ${ACCESS_KEY} --output_profile_path ${OUTPUT_PROFILE_PATH}```\n",
    "\n",
    " "
   ]
  },
  {
   "cell_type": "code",
   "execution_count": null,
   "id": "26cb4a83",
   "metadata": {},
   "outputs": [],
   "source": [
    "access_key = os.getenv(\"PICOVOICE_ACCESS_KEY\")   \n",
    "eagle_profiler = pveagle.create_profiler(access_key)"
   ]
  },
  {
   "cell_type": "code",
   "execution_count": null,
   "id": "205d9ab4",
   "metadata": {},
   "outputs": [
    {
     "name": "stdout",
     "output_type": "stream",
     "text": [
      "{'winner': 'Liam', 'confidence': 0.999626278828649, 'scores': {'Liam': np.float64(63.8753137588501), 'Madi': np.float64(0.023880481719970703)}}\n"
     ]
    }
   ],
   "source": [
    "import os\n",
    "from pathlib import Path\n",
    "import wave\n",
    "import numpy as np\n",
    "import sounddevice as sd\n",
    "import pveagle\n",
    "import dotenv\n",
    "\n",
    "dotenv.load_dotenv()\n",
    "ACCESS_KEY = os.getenv(\"PICOVOICE_ACCESS_KEY\")\n",
    "\n",
    "profile_paths = {\n",
    "    \"Liam\": Path(\"./applications/satellite/src/satellite/audio/recognition/eagle/voices/liam\"),\n",
    "    \"Madi\": Path(\"./applications/satellite/src/satellite/audio/recognition/eagle/voices/madi\"),\n",
    "}\n",
    "\n",
    "speaker_names = []\n",
    "speaker_profiles = []\n",
    "for name, path in profile_paths.items():\n",
    "    if not path.exists():\n",
    "        raise FileNotFoundError(f\"Profile file missing: {path}\")\n",
    "    with path.open(\"rb\") as f:\n",
    "        speaker_profiles.append(pveagle.EagleProfile.from_bytes(f.read()))\n",
    "    speaker_names.append(name)\n",
    "\n",
    "recognizer = pveagle.create_recognizer(\n",
    "    access_key=ACCESS_KEY,\n",
    "    speaker_profiles=speaker_profiles,\n",
    ")\n",
    "FRAME_LENGTH = recognizer.frame_length\n",
    "SAMPLE_RATE = recognizer.sample_rate\n",
    "\n",
    "def _stream_scores(frames: np.ndarray) -> np.ndarray:\n",
    "    scores = np.zeros(len(speaker_names), dtype=np.float64)\n",
    "    num_frames = len(frames) // FRAME_LENGTH\n",
    "    trimmed = frames[: num_frames * FRAME_LENGTH]\n",
    "    if num_frames == 0:\n",
    "        return scores\n",
    "    recognizer.reset()\n",
    "    chunks = trimmed.reshape(-1, FRAME_LENGTH)\n",
    "    for chunk in chunks:\n",
    "        scores += np.array(recognizer.process(chunk))\n",
    "    return scores\n",
    "\n",
    "def identify_from_wav(path: str) -> dict:\n",
    "    with wave.open(path, \"rb\") as wav_file:\n",
    "        if wav_file.getframerate() != SAMPLE_RATE or wav_file.getnchannels() != 1:\n",
    "            raise ValueError(\"Audio must be mono PCM16 at 16 kHz for Eagle.\")\n",
    "        pcm = np.frombuffer(wav_file.readframes(wav_file.getnframes()), dtype=np.int16)\n",
    "    scores = _stream_scores(pcm)\n",
    "    idx = int(np.argmax(scores))\n",
    "    confidence = float(scores[idx] / scores.sum()) if scores.sum() else 0.0\n",
    "    return {\n",
    "        \"winner\": speaker_names[idx],\n",
    "        \"confidence\": confidence,\n",
    "        \"scores\": dict(zip(speaker_names, scores)),\n",
    "    }\n",
    "\n",
    "def identify_from_microphone(seconds: float = 5.0) -> dict:\n",
    "    recording = sd.rec(\n",
    "        int(seconds * SAMPLE_RATE),\n",
    "        samplerate=SAMPLE_RATE,\n",
    "        channels=1,\n",
    "        dtype=np.int16,\n",
    "        blocking=True,\n",
    "    ).reshape(-1)\n",
    "    scores = _stream_scores(recording)\n",
    "    idx = int(np.argmax(scores))\n",
    "    confidence = float(scores[idx] / scores.sum()) if scores.sum() else 0.0\n",
    "    return {\n",
    "        \"winner\": speaker_names[idx],\n",
    "        \"confidence\": confidence,\n",
    "        \"scores\": dict(zip(speaker_names, scores)),\n",
    "    }\n",
    "\n",
    "# result = identify_from_wav(\"test_clip.wav\")\n",
    "result = identify_from_microphone(4)\n",
    "print(result)"
   ]
  },
  {
   "cell_type": "code",
   "execution_count": null,
   "id": "39c0495b",
   "metadata": {},
   "outputs": [],
   "source": []
  },
  {
   "cell_type": "code",
   "execution_count": null,
   "id": "df59ace4",
   "metadata": {},
   "outputs": [],
   "source": []
  }
 ],
 "metadata": {
  "kernelspec": {
   "display_name": "jarvis-monorepo",
   "language": "python",
   "name": "python3"
  },
  "language_info": {
   "codemirror_mode": {
    "name": "ipython",
    "version": 3
   },
   "file_extension": ".py",
   "mimetype": "text/x-python",
   "name": "python",
   "nbconvert_exporter": "python",
   "pygments_lexer": "ipython3",
   "version": "3.13.2"
  }
 },
 "nbformat": 4,
 "nbformat_minor": 5
}
